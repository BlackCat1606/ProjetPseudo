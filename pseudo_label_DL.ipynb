{
  "nbformat": 4,
  "nbformat_minor": 0,
  "metadata": {
    "kernelspec": {
      "name": "python3",
      "display_name": "Python 3"
    },
    "colab": {
      "name": "pseudo_label-DL.ipynb",
      "provenance": [],
      "collapsed_sections": [],
      "toc_visible": true,
      "machine_shape": "hm",
      "include_colab_link": true
    },
    "accelerator": "GPU",
    "widgets": {
      "application/vnd.jupyter.widget-state+json": {
        "ff9f2f05cce548b98d4486e3caa58d08": {
          "model_module": "@jupyter-widgets/controls",
          "model_name": "HBoxModel",
          "state": {
            "_view_name": "HBoxView",
            "_dom_classes": [],
            "_model_name": "HBoxModel",
            "_view_module": "@jupyter-widgets/controls",
            "_model_module_version": "1.5.0",
            "_view_count": null,
            "_view_module_version": "1.5.0",
            "box_style": "",
            "layout": "IPY_MODEL_e60b2a223183446d8b09f5c4f6258825",
            "_model_module": "@jupyter-widgets/controls",
            "children": [
              "IPY_MODEL_8588a0e3de764659a68c92c94a2f3ece",
              "IPY_MODEL_e4a3991394454b14a500f68e118ab231"
            ]
          }
        },
        "e60b2a223183446d8b09f5c4f6258825": {
          "model_module": "@jupyter-widgets/base",
          "model_name": "LayoutModel",
          "state": {
            "_view_name": "LayoutView",
            "grid_template_rows": null,
            "right": null,
            "justify_content": null,
            "_view_module": "@jupyter-widgets/base",
            "overflow": null,
            "_model_module_version": "1.2.0",
            "_view_count": null,
            "flex_flow": null,
            "width": null,
            "min_width": null,
            "border": null,
            "align_items": null,
            "bottom": null,
            "_model_module": "@jupyter-widgets/base",
            "top": null,
            "grid_column": null,
            "overflow_y": null,
            "overflow_x": null,
            "grid_auto_flow": null,
            "grid_area": null,
            "grid_template_columns": null,
            "flex": null,
            "_model_name": "LayoutModel",
            "justify_items": null,
            "grid_row": null,
            "max_height": null,
            "align_content": null,
            "visibility": null,
            "align_self": null,
            "height": null,
            "min_height": null,
            "padding": null,
            "grid_auto_rows": null,
            "grid_gap": null,
            "max_width": null,
            "order": null,
            "_view_module_version": "1.2.0",
            "grid_template_areas": null,
            "object_position": null,
            "object_fit": null,
            "grid_auto_columns": null,
            "margin": null,
            "display": null,
            "left": null
          }
        },
        "8588a0e3de764659a68c92c94a2f3ece": {
          "model_module": "@jupyter-widgets/controls",
          "model_name": "IntProgressModel",
          "state": {
            "_view_name": "ProgressView",
            "style": "IPY_MODEL_180a60ace99245e99198459738b16788",
            "_dom_classes": [],
            "description": "",
            "_model_name": "IntProgressModel",
            "bar_style": "success",
            "max": 100,
            "_view_module": "@jupyter-widgets/controls",
            "_model_module_version": "1.5.0",
            "value": 100,
            "_view_count": null,
            "_view_module_version": "1.5.0",
            "orientation": "horizontal",
            "min": 0,
            "description_tooltip": null,
            "_model_module": "@jupyter-widgets/controls",
            "layout": "IPY_MODEL_9e5df92eec0340b5a46701ec6fb8b974"
          }
        },
        "e4a3991394454b14a500f68e118ab231": {
          "model_module": "@jupyter-widgets/controls",
          "model_name": "HTMLModel",
          "state": {
            "_view_name": "HTMLView",
            "style": "IPY_MODEL_90f24f52f1c747b7b7153e5901fb5455",
            "_dom_classes": [],
            "description": "",
            "_model_name": "HTMLModel",
            "placeholder": "​",
            "_view_module": "@jupyter-widgets/controls",
            "_model_module_version": "1.5.0",
            "value": "100% 100/100 [00:39&lt;00:00,  2.78it/s]",
            "_view_count": null,
            "_view_module_version": "1.5.0",
            "description_tooltip": null,
            "_model_module": "@jupyter-widgets/controls",
            "layout": "IPY_MODEL_0c3723f1dc72422199c2f7e4fd3efe0c"
          }
        },
        "180a60ace99245e99198459738b16788": {
          "model_module": "@jupyter-widgets/controls",
          "model_name": "ProgressStyleModel",
          "state": {
            "_view_name": "StyleView",
            "_model_name": "ProgressStyleModel",
            "description_width": "",
            "_view_module": "@jupyter-widgets/base",
            "_model_module_version": "1.5.0",
            "_view_count": null,
            "_view_module_version": "1.2.0",
            "bar_color": null,
            "_model_module": "@jupyter-widgets/controls"
          }
        },
        "9e5df92eec0340b5a46701ec6fb8b974": {
          "model_module": "@jupyter-widgets/base",
          "model_name": "LayoutModel",
          "state": {
            "_view_name": "LayoutView",
            "grid_template_rows": null,
            "right": null,
            "justify_content": null,
            "_view_module": "@jupyter-widgets/base",
            "overflow": null,
            "_model_module_version": "1.2.0",
            "_view_count": null,
            "flex_flow": null,
            "width": null,
            "min_width": null,
            "border": null,
            "align_items": null,
            "bottom": null,
            "_model_module": "@jupyter-widgets/base",
            "top": null,
            "grid_column": null,
            "overflow_y": null,
            "overflow_x": null,
            "grid_auto_flow": null,
            "grid_area": null,
            "grid_template_columns": null,
            "flex": null,
            "_model_name": "LayoutModel",
            "justify_items": null,
            "grid_row": null,
            "max_height": null,
            "align_content": null,
            "visibility": null,
            "align_self": null,
            "height": null,
            "min_height": null,
            "padding": null,
            "grid_auto_rows": null,
            "grid_gap": null,
            "max_width": null,
            "order": null,
            "_view_module_version": "1.2.0",
            "grid_template_areas": null,
            "object_position": null,
            "object_fit": null,
            "grid_auto_columns": null,
            "margin": null,
            "display": null,
            "left": null
          }
        },
        "90f24f52f1c747b7b7153e5901fb5455": {
          "model_module": "@jupyter-widgets/controls",
          "model_name": "DescriptionStyleModel",
          "state": {
            "_view_name": "StyleView",
            "_model_name": "DescriptionStyleModel",
            "description_width": "",
            "_view_module": "@jupyter-widgets/base",
            "_model_module_version": "1.5.0",
            "_view_count": null,
            "_view_module_version": "1.2.0",
            "_model_module": "@jupyter-widgets/controls"
          }
        },
        "0c3723f1dc72422199c2f7e4fd3efe0c": {
          "model_module": "@jupyter-widgets/base",
          "model_name": "LayoutModel",
          "state": {
            "_view_name": "LayoutView",
            "grid_template_rows": null,
            "right": null,
            "justify_content": null,
            "_view_module": "@jupyter-widgets/base",
            "overflow": null,
            "_model_module_version": "1.2.0",
            "_view_count": null,
            "flex_flow": null,
            "width": null,
            "min_width": null,
            "border": null,
            "align_items": null,
            "bottom": null,
            "_model_module": "@jupyter-widgets/base",
            "top": null,
            "grid_column": null,
            "overflow_y": null,
            "overflow_x": null,
            "grid_auto_flow": null,
            "grid_area": null,
            "grid_template_columns": null,
            "flex": null,
            "_model_name": "LayoutModel",
            "justify_items": null,
            "grid_row": null,
            "max_height": null,
            "align_content": null,
            "visibility": null,
            "align_self": null,
            "height": null,
            "min_height": null,
            "padding": null,
            "grid_auto_rows": null,
            "grid_gap": null,
            "max_width": null,
            "order": null,
            "_view_module_version": "1.2.0",
            "grid_template_areas": null,
            "object_position": null,
            "object_fit": null,
            "grid_auto_columns": null,
            "margin": null,
            "display": null,
            "left": null
          }
        },
        "8fbe388b7acd4419b1420c8eb1cea2f4": {
          "model_module": "@jupyter-widgets/controls",
          "model_name": "HBoxModel",
          "state": {
            "_view_name": "HBoxView",
            "_dom_classes": [],
            "_model_name": "HBoxModel",
            "_view_module": "@jupyter-widgets/controls",
            "_model_module_version": "1.5.0",
            "_view_count": null,
            "_view_module_version": "1.5.0",
            "box_style": "",
            "layout": "IPY_MODEL_9583ca7afb0345b5b571c79998d16ab9",
            "_model_module": "@jupyter-widgets/controls",
            "children": [
              "IPY_MODEL_0a7abb2875854251a843c936880d16b1",
              "IPY_MODEL_8320069a17f14244a8527ab2e5b57311"
            ]
          }
        },
        "9583ca7afb0345b5b571c79998d16ab9": {
          "model_module": "@jupyter-widgets/base",
          "model_name": "LayoutModel",
          "state": {
            "_view_name": "LayoutView",
            "grid_template_rows": null,
            "right": null,
            "justify_content": null,
            "_view_module": "@jupyter-widgets/base",
            "overflow": null,
            "_model_module_version": "1.2.0",
            "_view_count": null,
            "flex_flow": null,
            "width": null,
            "min_width": null,
            "border": null,
            "align_items": null,
            "bottom": null,
            "_model_module": "@jupyter-widgets/base",
            "top": null,
            "grid_column": null,
            "overflow_y": null,
            "overflow_x": null,
            "grid_auto_flow": null,
            "grid_area": null,
            "grid_template_columns": null,
            "flex": null,
            "_model_name": "LayoutModel",
            "justify_items": null,
            "grid_row": null,
            "max_height": null,
            "align_content": null,
            "visibility": null,
            "align_self": null,
            "height": null,
            "min_height": null,
            "padding": null,
            "grid_auto_rows": null,
            "grid_gap": null,
            "max_width": null,
            "order": null,
            "_view_module_version": "1.2.0",
            "grid_template_areas": null,
            "object_position": null,
            "object_fit": null,
            "grid_auto_columns": null,
            "margin": null,
            "display": null,
            "left": null
          }
        },
        "0a7abb2875854251a843c936880d16b1": {
          "model_module": "@jupyter-widgets/controls",
          "model_name": "IntProgressModel",
          "state": {
            "_view_name": "ProgressView",
            "style": "IPY_MODEL_47017db739344bcc9713b6c03944df93",
            "_dom_classes": [],
            "description": "",
            "_model_name": "IntProgressModel",
            "bar_style": "success",
            "max": 150,
            "_view_module": "@jupyter-widgets/controls",
            "_model_module_version": "1.5.0",
            "value": 150,
            "_view_count": null,
            "_view_module_version": "1.5.0",
            "orientation": "horizontal",
            "min": 0,
            "description_tooltip": null,
            "_model_module": "@jupyter-widgets/controls",
            "layout": "IPY_MODEL_34e318dda74b46afb66af18383282b5c"
          }
        },
        "8320069a17f14244a8527ab2e5b57311": {
          "model_module": "@jupyter-widgets/controls",
          "model_name": "HTMLModel",
          "state": {
            "_view_name": "HTMLView",
            "style": "IPY_MODEL_90afebe10e0d4c91b2270caf70dd6569",
            "_dom_classes": [],
            "description": "",
            "_model_name": "HTMLModel",
            "placeholder": "​",
            "_view_module": "@jupyter-widgets/controls",
            "_model_module_version": "1.5.0",
            "value": "100% 150/150 [09:19&lt;00:00,  3.69s/it]",
            "_view_count": null,
            "_view_module_version": "1.5.0",
            "description_tooltip": null,
            "_model_module": "@jupyter-widgets/controls",
            "layout": "IPY_MODEL_b19c2531413949f99d4a464c69420d50"
          }
        },
        "47017db739344bcc9713b6c03944df93": {
          "model_module": "@jupyter-widgets/controls",
          "model_name": "ProgressStyleModel",
          "state": {
            "_view_name": "StyleView",
            "_model_name": "ProgressStyleModel",
            "description_width": "",
            "_view_module": "@jupyter-widgets/base",
            "_model_module_version": "1.5.0",
            "_view_count": null,
            "_view_module_version": "1.2.0",
            "bar_color": null,
            "_model_module": "@jupyter-widgets/controls"
          }
        },
        "34e318dda74b46afb66af18383282b5c": {
          "model_module": "@jupyter-widgets/base",
          "model_name": "LayoutModel",
          "state": {
            "_view_name": "LayoutView",
            "grid_template_rows": null,
            "right": null,
            "justify_content": null,
            "_view_module": "@jupyter-widgets/base",
            "overflow": null,
            "_model_module_version": "1.2.0",
            "_view_count": null,
            "flex_flow": null,
            "width": null,
            "min_width": null,
            "border": null,
            "align_items": null,
            "bottom": null,
            "_model_module": "@jupyter-widgets/base",
            "top": null,
            "grid_column": null,
            "overflow_y": null,
            "overflow_x": null,
            "grid_auto_flow": null,
            "grid_area": null,
            "grid_template_columns": null,
            "flex": null,
            "_model_name": "LayoutModel",
            "justify_items": null,
            "grid_row": null,
            "max_height": null,
            "align_content": null,
            "visibility": null,
            "align_self": null,
            "height": null,
            "min_height": null,
            "padding": null,
            "grid_auto_rows": null,
            "grid_gap": null,
            "max_width": null,
            "order": null,
            "_view_module_version": "1.2.0",
            "grid_template_areas": null,
            "object_position": null,
            "object_fit": null,
            "grid_auto_columns": null,
            "margin": null,
            "display": null,
            "left": null
          }
        },
        "90afebe10e0d4c91b2270caf70dd6569": {
          "model_module": "@jupyter-widgets/controls",
          "model_name": "DescriptionStyleModel",
          "state": {
            "_view_name": "StyleView",
            "_model_name": "DescriptionStyleModel",
            "description_width": "",
            "_view_module": "@jupyter-widgets/base",
            "_model_module_version": "1.5.0",
            "_view_count": null,
            "_view_module_version": "1.2.0",
            "_model_module": "@jupyter-widgets/controls"
          }
        },
        "b19c2531413949f99d4a464c69420d50": {
          "model_module": "@jupyter-widgets/base",
          "model_name": "LayoutModel",
          "state": {
            "_view_name": "LayoutView",
            "grid_template_rows": null,
            "right": null,
            "justify_content": null,
            "_view_module": "@jupyter-widgets/base",
            "overflow": null,
            "_model_module_version": "1.2.0",
            "_view_count": null,
            "flex_flow": null,
            "width": null,
            "min_width": null,
            "border": null,
            "align_items": null,
            "bottom": null,
            "_model_module": "@jupyter-widgets/base",
            "top": null,
            "grid_column": null,
            "overflow_y": null,
            "overflow_x": null,
            "grid_auto_flow": null,
            "grid_area": null,
            "grid_template_columns": null,
            "flex": null,
            "_model_name": "LayoutModel",
            "justify_items": null,
            "grid_row": null,
            "max_height": null,
            "align_content": null,
            "visibility": null,
            "align_self": null,
            "height": null,
            "min_height": null,
            "padding": null,
            "grid_auto_rows": null,
            "grid_gap": null,
            "max_width": null,
            "order": null,
            "_view_module_version": "1.2.0",
            "grid_template_areas": null,
            "object_position": null,
            "object_fit": null,
            "grid_auto_columns": null,
            "margin": null,
            "display": null,
            "left": null
          }
        },
        "c7a8e064b74848a8b1e855a9080fd1d7": {
          "model_module": "@jupyter-widgets/controls",
          "model_name": "HBoxModel",
          "state": {
            "_view_name": "HBoxView",
            "_dom_classes": [],
            "_model_name": "HBoxModel",
            "_view_module": "@jupyter-widgets/controls",
            "_model_module_version": "1.5.0",
            "_view_count": null,
            "_view_module_version": "1.5.0",
            "box_style": "",
            "layout": "IPY_MODEL_f29eed55cf024938b495e92a1024694d",
            "_model_module": "@jupyter-widgets/controls",
            "children": [
              "IPY_MODEL_dc15fb48ad7c43948fada9f9e755ea61",
              "IPY_MODEL_c624bd23eed14a3bbb279671c213db91"
            ]
          }
        },
        "f29eed55cf024938b495e92a1024694d": {
          "model_module": "@jupyter-widgets/base",
          "model_name": "LayoutModel",
          "state": {
            "_view_name": "LayoutView",
            "grid_template_rows": null,
            "right": null,
            "justify_content": null,
            "_view_module": "@jupyter-widgets/base",
            "overflow": null,
            "_model_module_version": "1.2.0",
            "_view_count": null,
            "flex_flow": null,
            "width": null,
            "min_width": null,
            "border": null,
            "align_items": null,
            "bottom": null,
            "_model_module": "@jupyter-widgets/base",
            "top": null,
            "grid_column": null,
            "overflow_y": null,
            "overflow_x": null,
            "grid_auto_flow": null,
            "grid_area": null,
            "grid_template_columns": null,
            "flex": null,
            "_model_name": "LayoutModel",
            "justify_items": null,
            "grid_row": null,
            "max_height": null,
            "align_content": null,
            "visibility": null,
            "align_self": null,
            "height": null,
            "min_height": null,
            "padding": null,
            "grid_auto_rows": null,
            "grid_gap": null,
            "max_width": null,
            "order": null,
            "_view_module_version": "1.2.0",
            "grid_template_areas": null,
            "object_position": null,
            "object_fit": null,
            "grid_auto_columns": null,
            "margin": null,
            "display": null,
            "left": null
          }
        },
        "dc15fb48ad7c43948fada9f9e755ea61": {
          "model_module": "@jupyter-widgets/controls",
          "model_name": "IntProgressModel",
          "state": {
            "_view_name": "ProgressView",
            "style": "IPY_MODEL_8df1ce7e87ea4f698028d3b7e822bd94",
            "_dom_classes": [],
            "description": "",
            "_model_name": "IntProgressModel",
            "bar_style": "success",
            "max": 1,
            "_view_module": "@jupyter-widgets/controls",
            "_model_module_version": "1.5.0",
            "value": 1,
            "_view_count": null,
            "_view_module_version": "1.5.0",
            "orientation": "horizontal",
            "min": 0,
            "description_tooltip": null,
            "_model_module": "@jupyter-widgets/controls",
            "layout": "IPY_MODEL_2cc540152ab24254857ee2a5619aa8bc"
          }
        },
        "c624bd23eed14a3bbb279671c213db91": {
          "model_module": "@jupyter-widgets/controls",
          "model_name": "HTMLModel",
          "state": {
            "_view_name": "HTMLView",
            "style": "IPY_MODEL_d0aad9996ed34726b098aa78297432f4",
            "_dom_classes": [],
            "description": "",
            "_model_name": "HTMLModel",
            "placeholder": "​",
            "_view_module": "@jupyter-widgets/controls",
            "_model_module_version": "1.5.0",
            "value": "100% 1/1 [00:06&lt;00:00,  7.00s/it]",
            "_view_count": null,
            "_view_module_version": "1.5.0",
            "description_tooltip": null,
            "_model_module": "@jupyter-widgets/controls",
            "layout": "IPY_MODEL_417d3c7a5d9c49ce893dbc705df1eb6b"
          }
        },
        "8df1ce7e87ea4f698028d3b7e822bd94": {
          "model_module": "@jupyter-widgets/controls",
          "model_name": "ProgressStyleModel",
          "state": {
            "_view_name": "StyleView",
            "_model_name": "ProgressStyleModel",
            "description_width": "",
            "_view_module": "@jupyter-widgets/base",
            "_model_module_version": "1.5.0",
            "_view_count": null,
            "_view_module_version": "1.2.0",
            "bar_color": null,
            "_model_module": "@jupyter-widgets/controls"
          }
        },
        "2cc540152ab24254857ee2a5619aa8bc": {
          "model_module": "@jupyter-widgets/base",
          "model_name": "LayoutModel",
          "state": {
            "_view_name": "LayoutView",
            "grid_template_rows": null,
            "right": null,
            "justify_content": null,
            "_view_module": "@jupyter-widgets/base",
            "overflow": null,
            "_model_module_version": "1.2.0",
            "_view_count": null,
            "flex_flow": null,
            "width": null,
            "min_width": null,
            "border": null,
            "align_items": null,
            "bottom": null,
            "_model_module": "@jupyter-widgets/base",
            "top": null,
            "grid_column": null,
            "overflow_y": null,
            "overflow_x": null,
            "grid_auto_flow": null,
            "grid_area": null,
            "grid_template_columns": null,
            "flex": null,
            "_model_name": "LayoutModel",
            "justify_items": null,
            "grid_row": null,
            "max_height": null,
            "align_content": null,
            "visibility": null,
            "align_self": null,
            "height": null,
            "min_height": null,
            "padding": null,
            "grid_auto_rows": null,
            "grid_gap": null,
            "max_width": null,
            "order": null,
            "_view_module_version": "1.2.0",
            "grid_template_areas": null,
            "object_position": null,
            "object_fit": null,
            "grid_auto_columns": null,
            "margin": null,
            "display": null,
            "left": null
          }
        },
        "d0aad9996ed34726b098aa78297432f4": {
          "model_module": "@jupyter-widgets/controls",
          "model_name": "DescriptionStyleModel",
          "state": {
            "_view_name": "StyleView",
            "_model_name": "DescriptionStyleModel",
            "description_width": "",
            "_view_module": "@jupyter-widgets/base",
            "_model_module_version": "1.5.0",
            "_view_count": null,
            "_view_module_version": "1.2.0",
            "_model_module": "@jupyter-widgets/controls"
          }
        },
        "417d3c7a5d9c49ce893dbc705df1eb6b": {
          "model_module": "@jupyter-widgets/base",
          "model_name": "LayoutModel",
          "state": {
            "_view_name": "LayoutView",
            "grid_template_rows": null,
            "right": null,
            "justify_content": null,
            "_view_module": "@jupyter-widgets/base",
            "overflow": null,
            "_model_module_version": "1.2.0",
            "_view_count": null,
            "flex_flow": null,
            "width": null,
            "min_width": null,
            "border": null,
            "align_items": null,
            "bottom": null,
            "_model_module": "@jupyter-widgets/base",
            "top": null,
            "grid_column": null,
            "overflow_y": null,
            "overflow_x": null,
            "grid_auto_flow": null,
            "grid_area": null,
            "grid_template_columns": null,
            "flex": null,
            "_model_name": "LayoutModel",
            "justify_items": null,
            "grid_row": null,
            "max_height": null,
            "align_content": null,
            "visibility": null,
            "align_self": null,
            "height": null,
            "min_height": null,
            "padding": null,
            "grid_auto_rows": null,
            "grid_gap": null,
            "max_width": null,
            "order": null,
            "_view_module_version": "1.2.0",
            "grid_template_areas": null,
            "object_position": null,
            "object_fit": null,
            "grid_auto_columns": null,
            "margin": null,
            "display": null,
            "left": null
          }
        }
      }
    }
  },
  "cells": [
    {
      "cell_type": "markdown",
      "metadata": {
        "id": "view-in-github",
        "colab_type": "text"
      },
      "source": [
        "<a href=\"https://colab.research.google.com/github/BlackCat1606/ProjetPseudo/blob/master/pseudo_label_DL.ipynb\" target=\"_parent\"><img src=\"https://colab.research.google.com/assets/colab-badge.svg\" alt=\"Open In Colab\"/></a>"
      ]
    },
    {
      "cell_type": "code",
      "metadata": {
        "Collapsed": "false",
        "id": "Z7PxQAgTGaBk",
        "colab_type": "code",
        "outputId": "09de2810-9045-472e-8c0f-b38b97f8aa94",
        "colab": {
          "base_uri": "https://localhost:8080/",
          "height": 84
        }
      },
      "source": [
        "!pip install MulticoreTSNE\n",
        "%matplotlib inline\n",
        "from MulticoreTSNE import MulticoreTSNE as TSNE\n",
        "from matplotlib import pyplot as plt\n",
        "import torch\n",
        "from torchvision import datasets, transforms\n",
        "from torch import nn\n",
        "import torch.nn.functional as F\n",
        "import numpy as np\n",
        "\n",
        "torch.manual_seed(42)\n",
        "np.random.seed(42)\n",
        "torch.backends.cudnn.deterministic = True\n",
        "torch.backends.cudnn.benchmark = False"
      ],
      "execution_count": 0,
      "outputs": [
        {
          "output_type": "stream",
          "text": [
            "Requirement already satisfied: MulticoreTSNE in /usr/local/lib/python3.6/dist-packages (0.1)\n",
            "Requirement already satisfied: numpy in /usr/local/lib/python3.6/dist-packages (from MulticoreTSNE) (1.17.4)\n",
            "Requirement already satisfied: cffi in /usr/local/lib/python3.6/dist-packages (from MulticoreTSNE) (1.13.2)\n",
            "Requirement already satisfied: pycparser in /usr/local/lib/python3.6/dist-packages (from cffi->MulticoreTSNE) (2.19)\n"
          ],
          "name": "stdout"
        }
      ]
    },
    {
      "cell_type": "code",
      "metadata": {
        "id": "LomHSczXY8bW",
        "colab_type": "code",
        "outputId": "5f21e800-2194-4e7d-cff4-243644b96311",
        "colab": {
          "base_uri": "https://localhost:8080/",
          "height": 34
        }
      },
      "source": [
        "from google.colab import drive\n",
        "drive.mount('/content/gdrive')"
      ],
      "execution_count": 0,
      "outputs": [
        {
          "output_type": "stream",
          "text": [
            "Drive already mounted at /content/gdrive; to attempt to forcibly remount, call drive.mount(\"/content/gdrive\", force_remount=True).\n"
          ],
          "name": "stdout"
        }
      ]
    },
    {
      "cell_type": "code",
      "metadata": {
        "Collapsed": "false",
        "id": "m9wDP1CpGaB3",
        "colab_type": "code",
        "colab": {}
      },
      "source": [
        "import pandas as pd \n",
        "train_data = \"./gdrive/My Drive/ProjetPseudo/data/mnist_train.csv\"\n",
        "test_data = \"./gdrive/My Drive/ProjetPseudo/data/mnist_test.csv\"\n",
        "UNLABELED_BS = 256\n",
        "TRAIN_BS = 32\n",
        "TEST_BS = 1024\n",
        "\n",
        "num_train_samples = 1000\n",
        "samples_per_class = int(num_train_samples/9)\n",
        "\n",
        "x = pd.read_csv(train_data)\n",
        "y = x['label']\n",
        "x.drop(['label'], inplace = True, axis = 1)\n",
        "\n",
        "x_test = pd.read_csv(test_data)\n",
        "y_test = x_test['label']\n",
        "x_test.drop(['label'], inplace = True, axis = 1)"
      ],
      "execution_count": 0,
      "outputs": []
    },
    {
      "cell_type": "markdown",
      "metadata": {
        "Collapsed": "false",
        "id": "5etzsYemGaB6",
        "colab_type": "text"
      },
      "source": [
        "\n",
        "Maintenant, on va diviser l'ensemble des données en ensembles étiquetée et ensembles non étiquetés. Pour l'ensemble entrainé, nous nous assurerons d'avoir des échantillons égaux pour les 10 classes. (Équilibrage des classes)\n"
      ]
    },
    {
      "cell_type": "code",
      "metadata": {
        "Collapsed": "false",
        "id": "8j5sRmqlGaB7",
        "colab_type": "code",
        "colab": {}
      },
      "source": [
        "x_train, x_unlabeled = x[y.values == 0].values[:samples_per_class], x[y.values == 0].values[samples_per_class:]\n",
        "y_train = y[y.values == 0].values[:samples_per_class]\n",
        "\n",
        "for i in range(1,10):\n",
        "    x_train = np.concatenate([x_train, x[y.values == i].values[:samples_per_class]], axis = 0)\n",
        "    y_train = np.concatenate([y_train, y[y.values == i].values[:samples_per_class]], axis = 0)\n",
        "    \n",
        "    x_unlabeled = np.concatenate([x_unlabeled, x[y.values == i].values[samples_per_class:]], axis = 0)"
      ],
      "execution_count": 0,
      "outputs": []
    },
    {
      "cell_type": "markdown",
      "metadata": {
        "Collapsed": "false",
        "id": "zSRpsMA2GaB-",
        "colab_type": "text"
      },
      "source": [
        "Ensuite, nous normaliserons les données, les convertirons en tensors et créerons les chargeurs de données pour les ensembles entrainés, sans étiquette et de test."
      ]
    },
    {
      "cell_type": "code",
      "metadata": {
        "id": "58G3iLZUDITH",
        "colab_type": "code",
        "colab": {}
      },
      "source": [
        ""
      ],
      "execution_count": 0,
      "outputs": []
    },
    {
      "cell_type": "code",
      "metadata": {
        "Collapsed": "false",
        "id": "qHb1LlaAGaB_",
        "colab_type": "code",
        "colab": {}
      },
      "source": [
        "\n",
        "from sklearn.preprocessing import Normalizer\n",
        "\n",
        "normalizer = Normalizer()\n",
        "x_train = normalizer.fit_transform(x_train)\n",
        "x_unlabeled = normalizer.transform(x_unlabeled)\n",
        "x_test = normalizer.transform(x_test.values)"
      ],
      "execution_count": 0,
      "outputs": []
    },
    {
      "cell_type": "code",
      "metadata": {
        "Collapsed": "false",
        "id": "WVhAovz6GaCB",
        "colab_type": "code",
        "colab": {}
      },
      "source": [
        "x_train = torch.from_numpy(x_train).type(torch.FloatTensor)\n",
        "y_train = torch.from_numpy(y_train).type(torch.LongTensor) \n",
        "\n",
        "x_test = torch.from_numpy(x_test).type(torch.FloatTensor)\n",
        "y_test = torch.from_numpy(y_test.values).type(torch.LongTensor)"
      ],
      "execution_count": 0,
      "outputs": []
    },
    {
      "cell_type": "code",
      "metadata": {
        "Collapsed": "false",
        "id": "f2t1JOgVGaCD",
        "colab_type": "code",
        "colab": {}
      },
      "source": [
        "\n",
        "train = torch.utils.data.TensorDataset(x_train, y_train)\n",
        "test = torch.utils.data.TensorDataset(x_test, y_test)\n",
        "\n",
        "train_loader = torch.utils.data.DataLoader(train, batch_size = TRAIN_BS, shuffle = True, num_workers = 8)\n",
        "\n",
        "unlabeled_train = torch.from_numpy(x_unlabeled).type(torch.FloatTensor)\n",
        "\n",
        "unlabeled = torch.utils.data.TensorDataset(unlabeled_train)\n",
        "unlabeled_loader = torch.utils.data.DataLoader(unlabeled, batch_size = UNLABELED_BS, shuffle = True, num_workers = 8)\n",
        "\n",
        "test_loader = torch.utils.data.DataLoader(test, batch_size = TEST_BS, shuffle = True, num_workers = 8)"
      ],
      "execution_count": 0,
      "outputs": []
    },
    {
      "cell_type": "markdown",
      "metadata": {
        "Collapsed": "false",
        "id": "9mVhOQyYGaCF",
        "colab_type": "text"
      },
      "source": [
        "### Architecture de réseau\n",
        "\n",
        "Nous utiliserons un simple réseau de couche Conv + 2 FC à 2 couches avec le dropout.\n"
      ]
    },
    {
      "cell_type": "code",
      "metadata": {
        "Collapsed": "false",
        "id": "fC36_ARIGaCG",
        "colab_type": "code",
        "colab": {}
      },
      "source": [
        "# Architecture  : https://github.com/peimengsui/semi_supervised_mnist\n",
        "class Net(nn.Module):\n",
        "        def __init__(self):\n",
        "            super(Net, self).__init__()\n",
        "            self.conv1 = nn.Conv2d(1, 20, kernel_size=5)\n",
        "            self.conv2 = nn.Conv2d(20, 40, kernel_size=5)\n",
        "            self.conv2_drop = nn.Dropout2d()\n",
        "            self.fc1 = nn.Linear(640, 150)\n",
        "            self.fc2 = nn.Linear(150, 10)\n",
        "            self.log_softmax = nn.LogSoftmax(dim = 1)\n",
        "\n",
        "        def forward(self, x):\n",
        "            x = x.view(-1,1,28,28)\n",
        "            x = F.relu(F.max_pool2d(self.conv1(x), 2))\n",
        "            x = F.relu(F.max_pool2d(self.conv2_drop(self.conv2(x)), 2))\n",
        "            x = x.view(-1, 640)\n",
        "            x = F.relu(self.fc1(x))\n",
        "            x = F.dropout(x, training=self.training)\n",
        "            x = F.relu(self.fc2(x))\n",
        "            x = self.log_softmax(x)\n",
        "            return x\n",
        "        \n",
        "net = Net().cuda()"
      ],
      "execution_count": 0,
      "outputs": []
    },
    {
      "cell_type": "markdown",
      "metadata": {
        "Collapsed": "false",
        "id": "R5n_Mv0EGaCI",
        "colab_type": "text"
      },
      "source": [
        "Définissons maintenant une fonction pour évaluer le réseau et obtenir des valeurs de perte et de précision."
      ]
    },
    {
      "cell_type": "code",
      "metadata": {
        "Collapsed": "false",
        "id": "1SpOgmdXGaCJ",
        "colab_type": "code",
        "colab": {}
      },
      "source": [
        "def evaluate(model, test_loader):\n",
        "    model.eval()\n",
        "    correct = 0 \n",
        "    loss = 0\n",
        "    with torch.no_grad():\n",
        "        for data, labels in test_loader:\n",
        "            data = data.cuda()\n",
        "            output = model(data)\n",
        "            predicted = torch.max(output,1)[1]\n",
        "            correct += (predicted == labels.cuda()).sum()\n",
        "            loss += F.nll_loss(output, labels.cuda()).item()\n",
        "\n",
        "    return (float(correct)/len(test)) *100, (loss/len(test_loader))\n"
      ],
      "execution_count": 0,
      "outputs": []
    },
    {
      "cell_type": "markdown",
      "metadata": {
        "Collapsed": "false",
        "id": "deKTljKzGaCL",
        "colab_type": "text"
      },
      "source": [
        "Tout d'abord, entraînons le modèle sur l'ensemble étiqueté pour 100 époques\n"
      ]
    },
    {
      "cell_type": "code",
      "metadata": {
        "Collapsed": "false",
        "id": "tDFOVvQ3GaCM",
        "colab_type": "code",
        "colab": {}
      },
      "source": [
        "from tqdm import tqdm_notebook\n",
        "def train_supervised(model, train_loader, test_loader):\n",
        "    optimizer = torch.optim.SGD( model.parameters(), lr = 0.1)\n",
        "    EPOCHS = 100\n",
        "    model.train()\n",
        "    for epoch in tqdm_notebook(range(EPOCHS)):\n",
        "        correct = 0\n",
        "        running_loss = 0\n",
        "        for batch_idx, (X_batch, y_batch) in enumerate(train_loader):\n",
        "            X_batch, y_batch = X_batch.cuda(), y_batch.cuda()\n",
        "            \n",
        "            output = model(X_batch)\n",
        "            labeled_loss = F.nll_loss(output, y_batch)\n",
        "                       \n",
        "            optimizer.zero_grad()\n",
        "            labeled_loss.backward()\n",
        "            optimizer.step()\n",
        "            running_loss += labeled_loss.item()\n",
        "        \n",
        "        if epoch %10 == 0:\n",
        "            test_acc, test_loss = evaluate(model, test_loader)\n",
        "            print('Epoch: {} : Train Loss : {:.5f} | Test Acc : {:.5f} | Test Loss : {:.3f} '.format(epoch, running_loss/(10 * len(train)), test_acc, test_loss))\n",
        "            model.train()"
      ],
      "execution_count": 0,
      "outputs": []
    },
    {
      "cell_type": "code",
      "metadata": {
        "Collapsed": "false",
        "id": "mCmjguj5GaCP",
        "colab_type": "code",
        "outputId": "491e7f3e-403c-4bcb-f647-88aa17dcb564",
        "colab": {
          "base_uri": "https://localhost:8080/",
          "height": 234,
          "referenced_widgets": [
            "ff9f2f05cce548b98d4486e3caa58d08",
            "e60b2a223183446d8b09f5c4f6258825",
            "8588a0e3de764659a68c92c94a2f3ece",
            "e4a3991394454b14a500f68e118ab231",
            "180a60ace99245e99198459738b16788",
            "9e5df92eec0340b5a46701ec6fb8b974",
            "90f24f52f1c747b7b7153e5901fb5455",
            "0c3723f1dc72422199c2f7e4fd3efe0c"
          ]
        }
      },
      "source": [
        "train_supervised(net, train_loader, test_loader)"
      ],
      "execution_count": 0,
      "outputs": [
        {
          "output_type": "display_data",
          "data": {
            "application/vnd.jupyter.widget-view+json": {
              "model_id": "ff9f2f05cce548b98d4486e3caa58d08",
              "version_minor": 0,
              "version_major": 2
            },
            "text/plain": [
              "HBox(children=(IntProgress(value=0), HTML(value='')))"
            ]
          },
          "metadata": {
            "tags": []
          }
        },
        {
          "output_type": "stream",
          "text": [
            "Epoch: 0 : Train Loss : 0.00726 | Test Acc : 12.74000 | Test Loss : 2.302 \n",
            "Epoch: 10 : Train Loss : 0.00725 | Test Acc : 29.36000 | Test Loss : 2.296 \n",
            "Epoch: 20 : Train Loss : 0.00534 | Test Acc : 54.52000 | Test Loss : 1.459 \n",
            "Epoch: 30 : Train Loss : 0.00153 | Test Acc : 88.05000 | Test Loss : 0.406 \n",
            "Epoch: 40 : Train Loss : 0.00100 | Test Acc : 92.33000 | Test Loss : 0.246 \n",
            "Epoch: 50 : Train Loss : 0.00076 | Test Acc : 93.85000 | Test Loss : 0.208 \n",
            "Epoch: 60 : Train Loss : 0.00062 | Test Acc : 93.89000 | Test Loss : 0.194 \n",
            "Epoch: 70 : Train Loss : 0.00053 | Test Acc : 94.40000 | Test Loss : 0.180 \n",
            "Epoch: 80 : Train Loss : 0.00036 | Test Acc : 94.60000 | Test Loss : 0.183 \n",
            "Epoch: 90 : Train Loss : 0.00032 | Test Acc : 95.04000 | Test Loss : 0.181 \n",
            "\n"
          ],
          "name": "stdout"
        }
      ]
    },
    {
      "cell_type": "code",
      "metadata": {
        "Collapsed": "false",
        "id": "Bg7981MZGaCS",
        "colab_type": "code",
        "outputId": "6485fd2b-d3cd-4b86-e67e-9c616e8f3448",
        "colab": {
          "base_uri": "https://localhost:8080/",
          "height": 34
        }
      },
      "source": [
        "test_acc, test_loss = evaluate(net, test_loader)\n",
        "print('Test Acc : {:.5f} | Test Loss : {:.3f} '.format(test_acc, test_loss))\n",
        "torch.save(net.state_dict(), 'saved_models/supervised_weights')"
      ],
      "execution_count": 0,
      "outputs": [
        {
          "output_type": "stream",
          "text": [
            "Test Acc : 94.95000 | Test Loss : 0.182 \n"
          ],
          "name": "stdout"
        }
      ]
    },
    {
      "cell_type": "code",
      "metadata": {
        "Collapsed": "false",
        "id": "9DSgENQYGaCU",
        "colab_type": "code",
        "outputId": "079ea200-153d-48d4-a710-69d31fcdc91d",
        "colab": {
          "base_uri": "https://localhost:8080/",
          "height": 34
        }
      },
      "source": [
        "net.load_state_dict(torch.load('saved_models/supervised_weights'))"
      ],
      "execution_count": 0,
      "outputs": [
        {
          "output_type": "execute_result",
          "data": {
            "text/plain": [
              "<All keys matched successfully>"
            ]
          },
          "metadata": {
            "tags": []
          },
          "execution_count": 20
        }
      ]
    },
    {
      "cell_type": "code",
      "metadata": {
        "Collapsed": "false",
        "id": "HvrlgZcSGaCX",
        "colab_type": "code",
        "colab": {}
      },
      "source": [
        "T1 = 100\n",
        "T2 = 700\n",
        "af = 3\n",
        "\n",
        "def alpha_weight(epoch):\n",
        "    if epoch < T1:\n",
        "        return 0.0\n",
        "    elif epoch > T2:\n",
        "        return af\n",
        "    else:\n",
        "         return ((epoch-T1) / (T2-T1))*af"
      ],
      "execution_count": 0,
      "outputs": []
    },
    {
      "cell_type": "code",
      "metadata": {
        "Collapsed": "false",
        "id": "qwZh2kI2GaCa",
        "colab_type": "code",
        "colab": {}
      },
      "source": [
        "# Concept : https://github.com/peimengsui/semi_supervised_mnist\n",
        "\n",
        "from tqdm import tqdm_notebook\n",
        "\n",
        "acc_scores = []\n",
        "unlabel = []\n",
        "pseudo_label = []\n",
        "\n",
        "alpha_log = []\n",
        "test_acc_log = []\n",
        "test_loss_log = []\n",
        "def semisup_train(model, train_loader, unlabeled_loader, test_loader):\n",
        "    optimizer = torch.optim.SGD(model.parameters(), lr = 0.1)\n",
        "    EPOCHS = 150\n",
        "    \n",
        "    # Au lieu d'utiliser l'époque actuelle, nous utilisons une variable \"step\" pour calculer l'alpha_weight\n",
        "    # Cela permet au modèle de converger plus rapidement\n",
        "\n",
        "    step = 100 \n",
        "    \n",
        "    model.train()\n",
        "    for epoch in tqdm_notebook(range(EPOCHS)):\n",
        "        for batch_idx, x_unlabeled in enumerate(unlabeled_loader):\n",
        "            \n",
        "            \n",
        "            # Pass avant pour obtenir les pseudo étiquettes\n",
        "            x_unlabeled = x_unlabeled[0].cuda()\n",
        "            model.eval()\n",
        "            output_unlabeled = model(x_unlabeled)\n",
        "            _, pseudo_labeled = torch.max(output_unlabeled, 1)\n",
        "            model.train()\n",
        "            \n",
        "            \n",
        "            \"\"\" UNIQUEMENT POUR LA VISUALISATION\"\"\"\n",
        "            if (batch_idx < 3) and (epoch % 10 == 0):\n",
        "                unlabel.append(x_unlabeled.cpu())\n",
        "                pseudo_label.append(pseudo_labeled.cpu())\n",
        "            \"\"\" ********************** \"\"\"\n",
        "            \n",
        "            # Maintenant, calculez la perte sans étiquette en utilisant le pseudo label\n",
        "            output = model(x_unlabeled)\n",
        "            unlabeled_loss = alpha_weight(step) * F.nll_loss(output, pseudo_labeled)   \n",
        "            \n",
        "            # Propagation arrière\n",
        "            optimizer.zero_grad()\n",
        "            unlabeled_loss.backward()\n",
        "            optimizer.step()\n",
        "            \n",
        "            \n",
        "            # Pour 50 lots, entraînez une époque sur des données étiquetées\n",
        "            if batch_idx % 50 == 0:\n",
        "                \n",
        "                # Procédure d'entraînement normale\n",
        "                for batch_idx, (X_batch, y_batch) in enumerate(train_loader):\n",
        "                    X_batch = X_batch.cuda()\n",
        "                    y_batch = y_batch.cuda()\n",
        "                    output = model(X_batch)\n",
        "                    labeled_loss = F.nll_loss(output, y_batch)\n",
        "\n",
        "                    optimizer.zero_grad()\n",
        "                    labeled_loss.backward()\n",
        "                    optimizer.step()\n",
        "                                   \n",
        "                # Maintenant, nous incrémentons l'étape de 1\n",
        "                step += 1\n",
        "                \n",
        "\n",
        "        test_acc, test_loss =evaluate(model, test_loader)\n",
        "        print('Epoch: {} : Alpha Weight : {:.5f} | Test Acc : {:.5f} | Test Loss : {:.3f} '.format(epoch, alpha_weight(step), test_acc, test_loss))\n",
        "        \n",
        "        \"\"\" LOGGING VALUES \"\"\"\n",
        "        alpha_log.append(alpha_weight(step))\n",
        "        test_acc_log.append(test_acc/100)\n",
        "        test_loss_log.append(test_loss)\n",
        "        \"\"\" ************** \"\"\"\n",
        "        model.train()\n",
        "        "
      ],
      "execution_count": 0,
      "outputs": []
    },
    {
      "cell_type": "code",
      "metadata": {
        "Collapsed": "false",
        "id": "6in1wvRwGaCd",
        "colab_type": "code",
        "outputId": "aa49bed2-3cf9-42af-e101-1980e10a723c",
        "colab": {
          "base_uri": "https://localhost:8080/",
          "height": 1000,
          "referenced_widgets": [
            "8fbe388b7acd4419b1420c8eb1cea2f4",
            "9583ca7afb0345b5b571c79998d16ab9",
            "0a7abb2875854251a843c936880d16b1",
            "8320069a17f14244a8527ab2e5b57311",
            "47017db739344bcc9713b6c03944df93",
            "34e318dda74b46afb66af18383282b5c",
            "90afebe10e0d4c91b2270caf70dd6569",
            "b19c2531413949f99d4a464c69420d50"
          ]
        }
      },
      "source": [
        "semisup_train(net, train_loader, unlabeled_loader, test_loader)"
      ],
      "execution_count": 0,
      "outputs": [
        {
          "output_type": "display_data",
          "data": {
            "application/vnd.jupyter.widget-view+json": {
              "model_id": "8fbe388b7acd4419b1420c8eb1cea2f4",
              "version_minor": 0,
              "version_major": 2
            },
            "text/plain": [
              "HBox(children=(IntProgress(value=0, max=150), HTML(value='')))"
            ]
          },
          "metadata": {
            "tags": []
          }
        },
        {
          "output_type": "stream",
          "text": [
            "Epoch: 0 : Alpha Weight : 0.02500 | Test Acc : 94.78000 | Test Loss : 0.185 \n",
            "Epoch: 1 : Alpha Weight : 0.05000 | Test Acc : 95.08000 | Test Loss : 0.178 \n",
            "Epoch: 2 : Alpha Weight : 0.07500 | Test Acc : 94.90000 | Test Loss : 0.190 \n",
            "Epoch: 3 : Alpha Weight : 0.10000 | Test Acc : 95.32000 | Test Loss : 0.185 \n",
            "Epoch: 4 : Alpha Weight : 0.12500 | Test Acc : 94.88000 | Test Loss : 0.194 \n",
            "Epoch: 5 : Alpha Weight : 0.15000 | Test Acc : 95.11000 | Test Loss : 0.187 \n",
            "Epoch: 6 : Alpha Weight : 0.17500 | Test Acc : 95.57000 | Test Loss : 0.173 \n",
            "Epoch: 7 : Alpha Weight : 0.20000 | Test Acc : 95.61000 | Test Loss : 0.180 \n",
            "Epoch: 8 : Alpha Weight : 0.22500 | Test Acc : 95.71000 | Test Loss : 0.172 \n",
            "Epoch: 9 : Alpha Weight : 0.25000 | Test Acc : 95.84000 | Test Loss : 0.162 \n",
            "Epoch: 10 : Alpha Weight : 0.27500 | Test Acc : 95.96000 | Test Loss : 0.161 \n",
            "Epoch: 11 : Alpha Weight : 0.30000 | Test Acc : 95.95000 | Test Loss : 0.158 \n",
            "Epoch: 12 : Alpha Weight : 0.32500 | Test Acc : 95.78000 | Test Loss : 0.166 \n",
            "Epoch: 13 : Alpha Weight : 0.35000 | Test Acc : 95.95000 | Test Loss : 0.154 \n",
            "Epoch: 14 : Alpha Weight : 0.37500 | Test Acc : 96.03000 | Test Loss : 0.161 \n",
            "Epoch: 15 : Alpha Weight : 0.40000 | Test Acc : 96.02000 | Test Loss : 0.163 \n",
            "Epoch: 16 : Alpha Weight : 0.42500 | Test Acc : 96.00000 | Test Loss : 0.160 \n",
            "Epoch: 17 : Alpha Weight : 0.45000 | Test Acc : 95.97000 | Test Loss : 0.154 \n",
            "Epoch: 18 : Alpha Weight : 0.47500 | Test Acc : 96.31000 | Test Loss : 0.144 \n",
            "Epoch: 19 : Alpha Weight : 0.50000 | Test Acc : 96.39000 | Test Loss : 0.146 \n",
            "Epoch: 20 : Alpha Weight : 0.52500 | Test Acc : 96.34000 | Test Loss : 0.147 \n",
            "Epoch: 21 : Alpha Weight : 0.55000 | Test Acc : 96.24000 | Test Loss : 0.149 \n",
            "Epoch: 22 : Alpha Weight : 0.57500 | Test Acc : 96.47000 | Test Loss : 0.138 \n",
            "Epoch: 23 : Alpha Weight : 0.60000 | Test Acc : 96.56000 | Test Loss : 0.137 \n",
            "Epoch: 24 : Alpha Weight : 0.62500 | Test Acc : 96.62000 | Test Loss : 0.134 \n",
            "Epoch: 25 : Alpha Weight : 0.65000 | Test Acc : 95.78000 | Test Loss : 0.177 \n",
            "Epoch: 26 : Alpha Weight : 0.67500 | Test Acc : 96.51000 | Test Loss : 0.131 \n",
            "Epoch: 27 : Alpha Weight : 0.70000 | Test Acc : 96.85000 | Test Loss : 0.126 \n",
            "Epoch: 28 : Alpha Weight : 0.72500 | Test Acc : 96.82000 | Test Loss : 0.122 \n",
            "Epoch: 29 : Alpha Weight : 0.75000 | Test Acc : 96.86000 | Test Loss : 0.127 \n",
            "Epoch: 30 : Alpha Weight : 0.77500 | Test Acc : 96.71000 | Test Loss : 0.130 \n",
            "Epoch: 31 : Alpha Weight : 0.80000 | Test Acc : 96.30000 | Test Loss : 0.141 \n",
            "Epoch: 32 : Alpha Weight : 0.82500 | Test Acc : 96.91000 | Test Loss : 0.121 \n",
            "Epoch: 33 : Alpha Weight : 0.85000 | Test Acc : 96.95000 | Test Loss : 0.121 \n",
            "Epoch: 34 : Alpha Weight : 0.87500 | Test Acc : 96.92000 | Test Loss : 0.121 \n",
            "Epoch: 35 : Alpha Weight : 0.90000 | Test Acc : 96.90000 | Test Loss : 0.123 \n",
            "Epoch: 36 : Alpha Weight : 0.92500 | Test Acc : 97.12000 | Test Loss : 0.116 \n",
            "Epoch: 37 : Alpha Weight : 0.95000 | Test Acc : 96.97000 | Test Loss : 0.116 \n",
            "Epoch: 38 : Alpha Weight : 0.97500 | Test Acc : 96.73000 | Test Loss : 0.130 \n",
            "Epoch: 39 : Alpha Weight : 1.00000 | Test Acc : 97.05000 | Test Loss : 0.116 \n",
            "Epoch: 40 : Alpha Weight : 1.02500 | Test Acc : 97.17000 | Test Loss : 0.115 \n",
            "Epoch: 41 : Alpha Weight : 1.05000 | Test Acc : 97.09000 | Test Loss : 0.112 \n",
            "Epoch: 42 : Alpha Weight : 1.07500 | Test Acc : 97.26000 | Test Loss : 0.111 \n",
            "Epoch: 43 : Alpha Weight : 1.10000 | Test Acc : 97.11000 | Test Loss : 0.116 \n",
            "Epoch: 44 : Alpha Weight : 1.12500 | Test Acc : 97.26000 | Test Loss : 0.109 \n",
            "Epoch: 45 : Alpha Weight : 1.15000 | Test Acc : 97.28000 | Test Loss : 0.111 \n",
            "Epoch: 46 : Alpha Weight : 1.17500 | Test Acc : 97.28000 | Test Loss : 0.108 \n",
            "Epoch: 47 : Alpha Weight : 1.20000 | Test Acc : 96.74000 | Test Loss : 0.121 \n",
            "Epoch: 48 : Alpha Weight : 1.22500 | Test Acc : 97.35000 | Test Loss : 0.104 \n",
            "Epoch: 49 : Alpha Weight : 1.25000 | Test Acc : 97.18000 | Test Loss : 0.109 \n",
            "Epoch: 50 : Alpha Weight : 1.27500 | Test Acc : 97.25000 | Test Loss : 0.107 \n",
            "Epoch: 51 : Alpha Weight : 1.30000 | Test Acc : 96.97000 | Test Loss : 0.111 \n",
            "Epoch: 52 : Alpha Weight : 1.32500 | Test Acc : 97.36000 | Test Loss : 0.103 \n",
            "Epoch: 53 : Alpha Weight : 1.35000 | Test Acc : 97.29000 | Test Loss : 0.111 \n",
            "Epoch: 54 : Alpha Weight : 1.37500 | Test Acc : 97.31000 | Test Loss : 0.104 \n",
            "Epoch: 55 : Alpha Weight : 1.40000 | Test Acc : 96.85000 | Test Loss : 0.120 \n",
            "Epoch: 56 : Alpha Weight : 1.42500 | Test Acc : 97.39000 | Test Loss : 0.100 \n",
            "Epoch: 57 : Alpha Weight : 1.45000 | Test Acc : 97.33000 | Test Loss : 0.107 \n",
            "Epoch: 58 : Alpha Weight : 1.47500 | Test Acc : 97.40000 | Test Loss : 0.102 \n",
            "Epoch: 59 : Alpha Weight : 1.50000 | Test Acc : 97.35000 | Test Loss : 0.102 \n",
            "Epoch: 60 : Alpha Weight : 1.52500 | Test Acc : 97.58000 | Test Loss : 0.096 \n",
            "Epoch: 61 : Alpha Weight : 1.55000 | Test Acc : 97.41000 | Test Loss : 0.101 \n",
            "Epoch: 62 : Alpha Weight : 1.57500 | Test Acc : 97.62000 | Test Loss : 0.096 \n",
            "Epoch: 63 : Alpha Weight : 1.60000 | Test Acc : 97.49000 | Test Loss : 0.104 \n",
            "Epoch: 64 : Alpha Weight : 1.62500 | Test Acc : 96.93000 | Test Loss : 0.118 \n",
            "Epoch: 65 : Alpha Weight : 1.65000 | Test Acc : 97.51000 | Test Loss : 0.102 \n",
            "Epoch: 66 : Alpha Weight : 1.67500 | Test Acc : 97.62000 | Test Loss : 0.095 \n",
            "Epoch: 67 : Alpha Weight : 1.70000 | Test Acc : 97.56000 | Test Loss : 0.099 \n",
            "Epoch: 68 : Alpha Weight : 1.72500 | Test Acc : 97.55000 | Test Loss : 0.095 \n",
            "Epoch: 69 : Alpha Weight : 1.75000 | Test Acc : 97.57000 | Test Loss : 0.098 \n",
            "Epoch: 70 : Alpha Weight : 1.77500 | Test Acc : 95.67000 | Test Loss : 0.193 \n",
            "Epoch: 71 : Alpha Weight : 1.80000 | Test Acc : 97.09000 | Test Loss : 0.113 \n",
            "Epoch: 72 : Alpha Weight : 1.82500 | Test Acc : 97.75000 | Test Loss : 0.093 \n",
            "Epoch: 73 : Alpha Weight : 1.85000 | Test Acc : 97.88000 | Test Loss : 0.088 \n",
            "Epoch: 74 : Alpha Weight : 1.87500 | Test Acc : 97.65000 | Test Loss : 0.092 \n",
            "Epoch: 75 : Alpha Weight : 1.90000 | Test Acc : 97.66000 | Test Loss : 0.093 \n",
            "Epoch: 76 : Alpha Weight : 1.92500 | Test Acc : 97.69000 | Test Loss : 0.092 \n",
            "Epoch: 77 : Alpha Weight : 1.95000 | Test Acc : 96.31000 | Test Loss : 0.139 \n",
            "Epoch: 78 : Alpha Weight : 1.97500 | Test Acc : 97.80000 | Test Loss : 0.093 \n",
            "Epoch: 79 : Alpha Weight : 2.00000 | Test Acc : 97.86000 | Test Loss : 0.088 \n",
            "Epoch: 80 : Alpha Weight : 2.02500 | Test Acc : 97.81000 | Test Loss : 0.090 \n",
            "Epoch: 81 : Alpha Weight : 2.05000 | Test Acc : 97.74000 | Test Loss : 0.096 \n",
            "Epoch: 82 : Alpha Weight : 2.07500 | Test Acc : 97.84000 | Test Loss : 0.086 \n",
            "Epoch: 83 : Alpha Weight : 2.10000 | Test Acc : 90.48000 | Test Loss : 0.328 \n",
            "Epoch: 84 : Alpha Weight : 2.12500 | Test Acc : 97.73000 | Test Loss : 0.091 \n",
            "Epoch: 85 : Alpha Weight : 2.15000 | Test Acc : 97.83000 | Test Loss : 0.087 \n",
            "Epoch: 86 : Alpha Weight : 2.17500 | Test Acc : 97.86000 | Test Loss : 0.088 \n",
            "Epoch: 87 : Alpha Weight : 2.20000 | Test Acc : 97.87000 | Test Loss : 0.087 \n",
            "Epoch: 88 : Alpha Weight : 2.22500 | Test Acc : 97.80000 | Test Loss : 0.094 \n",
            "Epoch: 89 : Alpha Weight : 2.25000 | Test Acc : 97.81000 | Test Loss : 0.086 \n",
            "Epoch: 90 : Alpha Weight : 2.27500 | Test Acc : 97.79000 | Test Loss : 0.087 \n",
            "Epoch: 91 : Alpha Weight : 2.30000 | Test Acc : 97.10000 | Test Loss : 0.106 \n",
            "Epoch: 92 : Alpha Weight : 2.32500 | Test Acc : 97.64000 | Test Loss : 0.095 \n",
            "Epoch: 93 : Alpha Weight : 2.35000 | Test Acc : 97.97000 | Test Loss : 0.082 \n",
            "Epoch: 94 : Alpha Weight : 2.37500 | Test Acc : 97.89000 | Test Loss : 0.089 \n",
            "Epoch: 95 : Alpha Weight : 2.40000 | Test Acc : 97.99000 | Test Loss : 0.081 \n",
            "Epoch: 96 : Alpha Weight : 2.42500 | Test Acc : 97.98000 | Test Loss : 0.088 \n",
            "Epoch: 97 : Alpha Weight : 2.45000 | Test Acc : 97.92000 | Test Loss : 0.084 \n",
            "Epoch: 98 : Alpha Weight : 2.47500 | Test Acc : 98.09000 | Test Loss : 0.079 \n",
            "Epoch: 99 : Alpha Weight : 2.50000 | Test Acc : 97.88000 | Test Loss : 0.098 \n",
            "Epoch: 100 : Alpha Weight : 2.52500 | Test Acc : 98.05000 | Test Loss : 0.082 \n",
            "Epoch: 101 : Alpha Weight : 2.55000 | Test Acc : 95.55000 | Test Loss : 0.195 \n",
            "Epoch: 102 : Alpha Weight : 2.57500 | Test Acc : 98.15000 | Test Loss : 0.077 \n",
            "Epoch: 103 : Alpha Weight : 2.60000 | Test Acc : 98.09000 | Test Loss : 0.082 \n",
            "Epoch: 104 : Alpha Weight : 2.62500 | Test Acc : 91.19000 | Test Loss : 0.307 \n",
            "Epoch: 105 : Alpha Weight : 2.65000 | Test Acc : 98.16000 | Test Loss : 0.074 \n",
            "Epoch: 106 : Alpha Weight : 2.67500 | Test Acc : 97.58000 | Test Loss : 0.094 \n",
            "Epoch: 107 : Alpha Weight : 2.70000 | Test Acc : 98.11000 | Test Loss : 0.081 \n",
            "Epoch: 108 : Alpha Weight : 2.72500 | Test Acc : 98.09000 | Test Loss : 0.081 \n",
            "Epoch: 109 : Alpha Weight : 2.75000 | Test Acc : 98.05000 | Test Loss : 0.080 \n",
            "Epoch: 110 : Alpha Weight : 2.77500 | Test Acc : 98.08000 | Test Loss : 0.078 \n",
            "Epoch: 111 : Alpha Weight : 2.80000 | Test Acc : 71.40000 | Test Loss : 0.893 \n",
            "Epoch: 112 : Alpha Weight : 2.82500 | Test Acc : 97.48000 | Test Loss : 0.096 \n",
            "Epoch: 113 : Alpha Weight : 2.85000 | Test Acc : 98.23000 | Test Loss : 0.079 \n",
            "Epoch: 114 : Alpha Weight : 2.87500 | Test Acc : 98.11000 | Test Loss : 0.076 \n",
            "Epoch: 115 : Alpha Weight : 2.90000 | Test Acc : 98.14000 | Test Loss : 0.080 \n",
            "Epoch: 116 : Alpha Weight : 2.92500 | Test Acc : 98.13000 | Test Loss : 0.081 \n",
            "Epoch: 117 : Alpha Weight : 2.95000 | Test Acc : 98.24000 | Test Loss : 0.075 \n",
            "Epoch: 118 : Alpha Weight : 2.97500 | Test Acc : 98.14000 | Test Loss : 0.076 \n",
            "Epoch: 119 : Alpha Weight : 3.00000 | Test Acc : 97.90000 | Test Loss : 0.091 \n",
            "Epoch: 120 : Alpha Weight : 3.00000 | Test Acc : 98.17000 | Test Loss : 0.075 \n",
            "Epoch: 121 : Alpha Weight : 3.00000 | Test Acc : 95.72000 | Test Loss : 0.163 \n",
            "Epoch: 122 : Alpha Weight : 3.00000 | Test Acc : 98.15000 | Test Loss : 0.075 \n",
            "Epoch: 123 : Alpha Weight : 3.00000 | Test Acc : 98.19000 | Test Loss : 0.077 \n",
            "Epoch: 124 : Alpha Weight : 3.00000 | Test Acc : 97.57000 | Test Loss : 0.106 \n",
            "Epoch: 125 : Alpha Weight : 3.00000 | Test Acc : 98.19000 | Test Loss : 0.082 \n",
            "Epoch: 126 : Alpha Weight : 3.00000 | Test Acc : 98.16000 | Test Loss : 0.077 \n",
            "Epoch: 127 : Alpha Weight : 3.00000 | Test Acc : 96.79000 | Test Loss : 0.118 \n",
            "Epoch: 128 : Alpha Weight : 3.00000 | Test Acc : 98.28000 | Test Loss : 0.080 \n",
            "Epoch: 129 : Alpha Weight : 3.00000 | Test Acc : 98.18000 | Test Loss : 0.075 \n",
            "Epoch: 130 : Alpha Weight : 3.00000 | Test Acc : 98.20000 | Test Loss : 0.078 \n",
            "Epoch: 131 : Alpha Weight : 3.00000 | Test Acc : 98.28000 | Test Loss : 0.076 \n",
            "Epoch: 132 : Alpha Weight : 3.00000 | Test Acc : 98.37000 | Test Loss : 0.073 \n",
            "Epoch: 133 : Alpha Weight : 3.00000 | Test Acc : 98.23000 | Test Loss : 0.079 \n",
            "Epoch: 134 : Alpha Weight : 3.00000 | Test Acc : 98.13000 | Test Loss : 0.079 \n",
            "Epoch: 135 : Alpha Weight : 3.00000 | Test Acc : 98.22000 | Test Loss : 0.077 \n",
            "Epoch: 136 : Alpha Weight : 3.00000 | Test Acc : 98.31000 | Test Loss : 0.070 \n",
            "Epoch: 137 : Alpha Weight : 3.00000 | Test Acc : 98.32000 | Test Loss : 0.071 \n",
            "Epoch: 138 : Alpha Weight : 3.00000 | Test Acc : 98.30000 | Test Loss : 0.076 \n",
            "Epoch: 139 : Alpha Weight : 3.00000 | Test Acc : 98.22000 | Test Loss : 0.075 \n",
            "Epoch: 140 : Alpha Weight : 3.00000 | Test Acc : 98.29000 | Test Loss : 0.081 \n",
            "Epoch: 141 : Alpha Weight : 3.00000 | Test Acc : 98.21000 | Test Loss : 0.084 \n",
            "Epoch: 142 : Alpha Weight : 3.00000 | Test Acc : 98.32000 | Test Loss : 0.077 \n",
            "Epoch: 143 : Alpha Weight : 3.00000 | Test Acc : 98.27000 | Test Loss : 0.077 \n",
            "Epoch: 144 : Alpha Weight : 3.00000 | Test Acc : 98.27000 | Test Loss : 0.071 \n",
            "Epoch: 145 : Alpha Weight : 3.00000 | Test Acc : 98.23000 | Test Loss : 0.074 \n",
            "Epoch: 146 : Alpha Weight : 3.00000 | Test Acc : 98.29000 | Test Loss : 0.074 \n",
            "Epoch: 147 : Alpha Weight : 3.00000 | Test Acc : 98.38000 | Test Loss : 0.074 \n",
            "Epoch: 148 : Alpha Weight : 3.00000 | Test Acc : 98.26000 | Test Loss : 0.076 \n",
            "Epoch: 149 : Alpha Weight : 3.00000 | Test Acc : 98.31000 | Test Loss : 0.071 \n",
            "\n"
          ],
          "name": "stdout"
        }
      ]
    },
    {
      "cell_type": "code",
      "metadata": {
        "Collapsed": "false",
        "id": "_R5hq0fXGaCf",
        "colab_type": "code",
        "outputId": "0879ae70-f428-44ae-fd6c-3eaa023022f2",
        "colab": {
          "base_uri": "https://localhost:8080/",
          "height": 34
        }
      },
      "source": [
        "test_acc, test_loss = evaluate(net, test_loader)\n",
        "print('Test Acc : {:.5f} | Test Loss : {:.3f} '.format(test_acc, test_loss))\n",
        "torch.save(net.state_dict(), 'saved_models/semi_supervised_weights')"
      ],
      "execution_count": 0,
      "outputs": [
        {
          "output_type": "stream",
          "text": [
            "Test Acc : 98.31000 | Test Loss : 0.072 \n"
          ],
          "name": "stdout"
        }
      ]
    },
    {
      "cell_type": "markdown",
      "metadata": {
        "Collapsed": "false",
        "id": "3hxNPk6SGaCi",
        "colab_type": "text"
      },
      "source": [
        "## Visualizations"
      ]
    },
    {
      "cell_type": "code",
      "metadata": {
        "Collapsed": "false",
        "id": "CFF-hnnlGaCj",
        "colab_type": "code",
        "outputId": "057cb93f-1c99-42e5-d760-d9258d769100",
        "colab": {
          "base_uri": "https://localhost:8080/",
          "height": 34
        }
      },
      "source": [
        "print(len(unlabel))\n",
        "unlabe = np.concatenate([u.cpu().numpy() for u in unlabel])\n",
        "pseudo_labe = np.concatenate([u.cpu().numpy() for u in pseudo_label])"
      ],
      "execution_count": 0,
      "outputs": [
        {
          "output_type": "stream",
          "text": [
            "45\n"
          ],
          "name": "stdout"
        }
      ]
    },
    {
      "cell_type": "code",
      "metadata": {
        "id": "9l7nRUVt6BHQ",
        "colab_type": "code",
        "outputId": "d2212f81-2ba5-49fd-be5f-1e54cdad012f",
        "colab": {
          "base_uri": "https://localhost:8080/",
          "height": 104
        }
      },
      "source": [
        "!pip install wurlitzer\n",
        "%load_ext wurlitzer"
      ],
      "execution_count": 0,
      "outputs": [
        {
          "output_type": "stream",
          "text": [
            "Collecting wurlitzer\n",
            "  Downloading https://files.pythonhosted.org/packages/24/5e/f3bd8443bfdf96d2f5d10097d301076a9eb55637b7864e52d2d1a4d8c72a/wurlitzer-2.0.0-py2.py3-none-any.whl\n",
            "Installing collected packages: wurlitzer\n",
            "Successfully installed wurlitzer-2.0.0\n"
          ],
          "name": "stdout"
        }
      ]
    },
    {
      "cell_type": "code",
      "metadata": {
        "Collapsed": "false",
        "id": "3Kwmn0L9GaCl",
        "colab_type": "code",
        "outputId": "9b5a04d2-2c53-496d-d091-e0a2eefa7910",
        "colab": {
          "base_uri": "https://localhost:8080/",
          "height": 406
        }
      },
      "source": [
        "\n",
        "train_data = \"./gdrive/My Drive/ProjetPseudo/data/mnist_train.csv\"\n",
        "x = pd.read_csv(train_data)\n",
        "y = x['label']\n",
        "x.drop(['label'], inplace = True, axis = 1)\n",
        "\n",
        "x = normalizer.transform(x.values)\n",
        "\n",
        "tsne_x0 = np.concatenate([x, x_train,unlabel[0]])\n",
        "print(1)\n",
        "tsne_x1 = np.concatenate([x, x_train,unlabel[1]])\n",
        "tsne_x2 = np.concatenate([x, x_train,unlabel[2]])\n",
        "tsne_x = np.concatenate([tsne_x0, tsne_x1,tsne_x2])\n",
        "tsne_y0 = np.concatenate([y.values, y_train, pseudo_label[0]])\n",
        "tsne_y1 = np.concatenate([y.values, y_train, pseudo_label[1]])\n",
        "tsne_y2 = np.concatenate([y.values, y_train, pseudo_label[2]])\n",
        "tsne_y = np.concatenate([tsne_y0, tsne_y1,tsne_y2])\n",
        "print(2)\n",
        "\n",
        "\n",
        "\n",
        "embeddings = TSNE(perplexity = 30, n_jobs=8, verbose = 1, n_iter = 100).fit_transform(tsne_x)"
      ],
      "execution_count": 0,
      "outputs": [
        {
          "output_type": "stream",
          "text": [
            "1\n"
          ],
          "name": "stdout"
        },
        {
          "output_type": "stream",
          "text": [
            "tcmalloc: large alloc 1154670592 bytes == 0x145a06000 @  0x7fa92a9261e7 0x7fa9228e7f71 0x7fa92294b55d 0x7fa92294b733 0x7fa9229e9768 0x7fa9229e9fc4 0x7fa9229ea112 0x5678b3 0x5a067e 0x7fa92293706d 0x50a8af 0x50c5b9 0x508245 0x50a080 0x50aa7d 0x50c5b9 0x508245 0x516915 0x50a8af 0x50c5b9 0x508245 0x50a080 0x50aa7d 0x50c5b9 0x508245 0x50a080 0x50aa7d 0x50d390 0x508245 0x509642 0x595311\n"
          ],
          "name": "stderr"
        },
        {
          "output_type": "stream",
          "text": [
            "2\n"
          ],
          "name": "stdout"
        },
        {
          "output_type": "stream",
          "text": [
            "Performing t-SNE using 8 cores.\n",
            "Using no_dims = 2, perplexity = 30.000000, and theta = 0.500000\n",
            "Computing input similarities...\n",
            "Building tree...\n",
            " - point 18409 of 184098\n",
            " - point 36818 of 184098\n",
            " - point 55227 of 184098\n",
            " - point 73636 of 184098\n",
            " - point 92045 of 184098\n",
            " - point 110454 of 184098\n",
            " - point 128863 of 184098\n",
            " - point 147272 of 184098\n",
            " - point 165681 of 184098\n",
            " - point 184090 of 184098\n",
            "Done in 1494.00 seconds (sparsity = 0.000743)!\n",
            "Learning embedding...\n",
            "Iteration 51: error is 130.563781 (50 iterations in 56.00 seconds)\n",
            "Iteration 100: error is 131.172893 (50 iterations in 59.00 seconds)\n",
            "Fitting performed in 115.00 seconds.\n"
          ],
          "name": "stderr"
        }
      ]
    },
    {
      "cell_type": "code",
      "metadata": {
        "Collapsed": "false",
        "id": "jAHHddVXGaCn",
        "colab_type": "code",
        "outputId": "6e5062c2-9258-4653-b524-55e4c9302520",
        "colab": {
          "base_uri": "https://localhost:8080/",
          "height": 82,
          "referenced_widgets": [
            "c7a8e064b74848a8b1e855a9080fd1d7",
            "f29eed55cf024938b495e92a1024694d",
            "dc15fb48ad7c43948fada9f9e755ea61",
            "c624bd23eed14a3bbb279671c213db91",
            "8df1ce7e87ea4f698028d3b7e822bd94",
            "2cc540152ab24254857ee2a5619aa8bc",
            "d0aad9996ed34726b098aa78297432f4",
            "417d3c7a5d9c49ce893dbc705df1eb6b"
          ]
        }
      },
      "source": [
        "from tqdm import tqdm_notebook\n",
        "%matplotlib\n",
        "plt.figure(figsize=(15,10))\n",
        "step_size = UNLABELED_BS * 3\n",
        "base_index = x.shape[0]\n",
        "epoch = 0\n",
        "for i in tqdm_notebook(range(0,np.array([t.numpy() for t in unlabel]).shape[0], step_size)):\n",
        "    plt.scatter(embeddings[:base_index, 0], embeddings[:base_index, 1], c=tsne_y[:base_index], cmap=plt.cm.get_cmap(\"jet\", 10), marker='s', alpha = 0.002, s = 14**2)\n",
        "    a = base_index\n",
        "    b = base_index + num_train_samples\n",
        "    plt.scatter(embeddings[a:b, 0], embeddings[a:b, 1], c=tsne_y[a:b], cmap=plt.cm.get_cmap(\"jet\", 10), marker='o', alpha = 0.3, s = 90**1)\n",
        "    a = base_index + num_train_samples + i\n",
        "    b = base_index + num_train_samples + i + step_size\n",
        "    plt.scatter(embeddings[a:b, 0], embeddings[a:b, 1], c=tsne_y[a:b], cmap=plt.cm.get_cmap(\"jet\", 10), marker='*', s = 150**1)\n",
        "    plt.colorbar(ticks=range(10))\n",
        "    plt.clim(-0.5, 9.5)\n",
        "    plt.title('Epoch : ' + str(epoch) +'  Test Acc : {:.2f}%'.format(test_acc_log[epoch]*100), fontsize = 20)\n",
        "    plt.savefig('imgs/tsne' + str(i) + '.png')\n",
        "    plt.draw()\n",
        "    plt.pause(5)\n",
        "    plt.clf()\n",
        "    epoch += 10\n"
      ],
      "execution_count": 0,
      "outputs": [
        {
          "output_type": "stream",
          "text": [
            "Using matplotlib backend: agg\n"
          ],
          "name": "stdout"
        },
        {
          "output_type": "display_data",
          "data": {
            "application/vnd.jupyter.widget-view+json": {
              "model_id": "c7a8e064b74848a8b1e855a9080fd1d7",
              "version_minor": 0,
              "version_major": 2
            },
            "text/plain": [
              "HBox(children=(IntProgress(value=0, max=1), HTML(value='')))"
            ]
          },
          "metadata": {
            "tags": []
          }
        },
        {
          "output_type": "stream",
          "text": [
            "\n"
          ],
          "name": "stdout"
        }
      ]
    }
  ]
}